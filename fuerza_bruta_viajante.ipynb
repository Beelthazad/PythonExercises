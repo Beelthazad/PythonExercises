{
 "cells": [
  {
   "cell_type": "markdown",
   "metadata": {},
   "source": [
    "# Práctica 1 - Inteligencia Artificial\n",
    "### Grado Ingeniería Informática Tecnologías Informáticas - Curso 2019-20\n",
    "\n",
    "### Problama del viajante - Resolución por fuerza bruta\n",
    "\n",
    "José Luis Ruiz Reina - 26 de Septiembre 2019"
   ]
  },
  {
   "cell_type": "markdown",
   "metadata": {},
   "source": [
    "El objetivo de este ejercicio preliminar es constatar la dificultad de resolver el problema del viajante por fuerza bruta cuando aumenta el número de ciudades."
   ]
  },
  {
   "cell_type": "code",
   "execution_count": null,
   "metadata": {},
   "outputs": [],
   "source": [
    "import random, time, math\n",
    "from itertools import permutations"
   ]
  },
  {
   "cell_type": "markdown",
   "metadata": {},
   "source": [
    "Consideremos la clase Viajante_n definida a continuación. Cada instancia de la clase dependerá de un valor $n$ que indicará el número de ciudades y de un parámetro $escala$. Las coordenadas $x$ e $y$ de cada ciudad se tomaran aleatoriamente en el rango $[-escala,+escala]$."
   ]
  },
  {
   "cell_type": "code",
   "execution_count": null,
   "metadata": {},
   "outputs": [],
   "source": [
    "class Viajante_n():\n",
    "    \n",
    "    def __init__(self,n,escala):\n",
    "        self.ciudades=list(range(1,n+1))\n",
    "        self.coordenadas={i:(random.uniform(-escala,escala),random.uniform(-escala,escala))\n",
    "              for i in  self.ciudades}\n",
    "        \n",
    "    def distancia(self,c1,c2):\n",
    "        coord1,coord2=self.coordenadas[c1],self.coordenadas[c2]\n",
    "        return math.sqrt((coord1[0]-coord2[0])**2+(coord1[1]-coord2[1])**2)\n",
    "        \n",
    "    def distancia_circuito(self,lc): # lc lista de ciudades (la primera despues de la última)\n",
    "        return sum(self.distancia(lc[i],lc[i+1]) for i in range(len(lc)-1)) +self.distancia(lc[-1],lc[0])    "
   ]
  },
  {
   "cell_type": "markdown",
   "metadata": {},
   "source": [
    "A continuación se define la función optimizacion_por_fuerza_bruta(pv) que toma una instancia concreta de la clase Viajante_n, devuelve la ruta de mínima distancia, la distancia de esa ruta e imprime el tiempo (en segundos) necesario para realizar los cálculos."
   ]
  },
  {
   "cell_type": "code",
   "execution_count": null,
   "metadata": {},
   "outputs": [],
   "source": [
    "def optimización_por_fuerza_bruta(pv):\n",
    "    t_ini = time.time()\n",
    "    posibles_rutas=permutations(pv.ciudades)\n",
    "    min_distancia=float(\"inf\")\n",
    "    for ruta in posibles_rutas:\n",
    "        distancia_actual= pv.distancia_circuito(ruta)\n",
    "        if distancia_actual < min_distancia:\n",
    "            min_distancia=distancia_actual\n",
    "            min_ruta=ruta\n",
    "    t_total = time.time() - t_ini\n",
    "    print(\"Tiempo empleado \" + str(t_total) + \" segundos.\")\n",
    "    return min_ruta,min_distancia"
   ]
  },
  {
   "cell_type": "markdown",
   "metadata": {},
   "source": [
    "Prueba con los siguientes ejemplos:"
   ]
  },
  {
   "cell_type": "code",
   "execution_count": null,
   "metadata": {},
   "outputs": [],
   "source": [
    "pv4=Viajante_n(4,10)\n",
    "optimización_por_fuerza_bruta(pv4)"
   ]
  },
  {
   "cell_type": "code",
   "execution_count": null,
   "metadata": {},
   "outputs": [],
   "source": [
    "pv6=Viajante_n(6,30)\n",
    "optimización_por_fuerza_bruta(pv6)"
   ]
  },
  {
   "cell_type": "code",
   "execution_count": null,
   "metadata": {},
   "outputs": [],
   "source": [
    "pv8=Viajante_n(8,40)\n",
    "optimización_por_fuerza_bruta(pv8)"
   ]
  },
  {
   "cell_type": "code",
   "execution_count": null,
   "metadata": {},
   "outputs": [],
   "source": [
    "pv9=Viajante_n(9,40)\n",
    "optimización_por_fuerza_bruta(pv9)"
   ]
  },
  {
   "cell_type": "markdown",
   "metadata": {},
   "source": [
    "Cuidado con las siguientes pruebas. Dependiendo de tu ordenador, la computación puede tardar bastante..."
   ]
  },
  {
   "cell_type": "code",
   "execution_count": null,
   "metadata": {},
   "outputs": [],
   "source": [
    "pv10=Viajante_n(10,50)\n",
    "optimización_por_fuerza_bruta(pv10)"
   ]
  },
  {
   "cell_type": "code",
   "execution_count": null,
   "metadata": {},
   "outputs": [],
   "source": [
    "pv20=Viajante_n(20,100)\n",
    "optimización_por_fuerza_bruta(pv20)"
   ]
  }
 ],
 "metadata": {
  "kernelspec": {
   "display_name": "Python 3",
   "language": "python",
   "name": "python3"
  },
  "language_info": {
   "codemirror_mode": {
    "name": "ipython",
    "version": 3
   },
   "file_extension": ".py",
   "mimetype": "text/x-python",
   "name": "python",
   "nbconvert_exporter": "python",
   "pygments_lexer": "ipython3",
   "version": "3.6.6"
  }
 },
 "nbformat": 4,
 "nbformat_minor": 2
}
